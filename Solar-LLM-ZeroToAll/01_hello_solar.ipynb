{
 "cells": [
  {
   "cell_type": "markdown",
   "metadata": {},
   "source": [
    "<a target=\"_blank\" href=\"https://colab.research.google.com/github/UpstageAI/cookbook/blob/main/Solar-LLM-ZeroToAll/01_hello_solar.ipynb\">\n",
    "<img src=\"https://colab.research.google.com/assets/colab-badge.svg\" alt=\"Open In Colab\"/>\n",
    "</a>"
   ]
  },
  {
   "cell_type": "code",
   "execution_count": 1,
   "metadata": {},
   "outputs": [],
   "source": [
    "! pip3 install -qU langchain-upstage  requests python-dotenv"
   ]
  },
  {
   "cell_type": "markdown",
   "metadata": {},
   "source": [
    "## UPSTAGE_API_KEY\n",
    "To obtain your Upstage API key, follow these steps:\n",
    "\n",
    "1. Visit the Upstage AI console at <https://console.upstage.ai>.\n",
    "2. Sign up for an account if you don't already have one.\n",
    "3. Log in to your account.\n",
    "4. Navigate to the API key section.\n",
    "5. Generate your API key.\n",
    "6. Copy the key and save it securely.\n",
    "\n",
    "![Console](./figures/console.upstage.ai.jpg)"
   ]
  },
  {
   "cell_type": "code",
   "execution_count": 2,
   "metadata": {},
   "outputs": [],
   "source": [
    "\n",
    "%load_ext dotenv\n",
    "%dotenv\n",
    "# set UPSTAGE_API_KEY in .env file\n",
    "# UPSTAGE_API_KEY=your_api_key"
   ]
  },
  {
   "cell_type": "code",
   "execution_count": 3,
   "metadata": {},
   "outputs": [],
   "source": [
    "import warnings\n",
    "\n",
    "warnings.filterwarnings(\"ignore\")"
   ]
  },
  {
   "cell_type": "code",
   "execution_count": 4,
   "metadata": {},
   "outputs": [
    {
     "name": "stdout",
     "output_type": "stream",
     "text": [
      "('In a galaxy far, far away, there was a young boy named Luke Skywalker. He '\n",
      " 'lived on the desert planet of Tatooine, dreaming of adventure and longing '\n",
      " 'for something more than his mundane life as a moisture farmer.\\n'\n",
      " '\\n'\n",
      " 'One day, Luke meets a peculiar old man named Obi-Wan Kenobi, who tells him '\n",
      " 'that his father was a great Jedi Knight named Anakin Skywalker. Luke learns '\n",
      " 'that his father was killed by the evil Galactic Empire and its ruthless '\n",
      " 'leader, the Emperor.\\n'\n",
      " '\\n'\n",
      " \"Obi-Wan gives Luke his father's lightsaber, a powerful weapon used by Jedi \"\n",
      " 'Knights, and teaches him the ways of the Force. Luke also befriends a rogue '\n",
      " 'smuggler named Han Solo and his loyal Wookiee companion, Chewbacca. '\n",
      " 'Together, they embark on a daring mission to rescue the beautiful Princess '\n",
      " 'Leia from the clutches of the Empire.\\n'\n",
      " '\\n'\n",
      " 'As they journey through the galaxy, Luke discovers that his father had '\n",
      " 'turned to the dark side of the Force and became the fearsome villain Darth '\n",
      " 'Vader. Despite this revelation, Luke remains determined to restore balance '\n",
      " 'to the Force and defeat the Empire.\\n'\n",
      " '\\n'\n",
      " 'With the help of his newfound friends and the guidance of the Force, Luke '\n",
      " 'faces numerous challenges and adversaries, including the treacherous bounty '\n",
      " 'hunter Boba Fett and the devious Emperor himself. In the end, Luke '\n",
      " \"sacrifices himself to save his friends and destroys the Empire's deadly \"\n",
      " 'Death Star.\\n'\n",
      " '\\n'\n",
      " \"However, Luke's journey is far from over. He continues to train in the ways \"\n",
      " 'of the Force and eventually confronts his father, Anakin Skywalker, in a '\n",
      " 'final duel. With the help of the Force and the love of his friends, Luke '\n",
      " \"redeems his father and brings an end to the Empire's tyranny.\\n\"\n",
      " '\\n'\n",
      " 'Thus, Luke Skywalker becomes a symbol of hope and a beacon of light in the '\n",
      " 'galaxy, ensuring that the legacy of the Jedi lives on for future '\n",
      " 'generations.')\n"
     ]
    }
   ],
   "source": [
    "import os\n",
    "from openai import OpenAI\n",
    "from pprint import pprint\n",
    "\n",
    "client = OpenAI(\n",
    "    api_key=os.environ[\"UPSTAGE_API_KEY\"], base_url=\"https://api.upstage.ai/v1/solar\"\n",
    ")\n",
    "chat_result = client.chat.completions.create(\n",
    "    model=\"solar-1-mini-chat\",\n",
    "    messages=[\n",
    "        {\n",
    "            \"role\": \"system\",\n",
    "            \"content\": \"Once Upon a Time in A Galaxy Far, Far, Away ...\",\n",
    "        },\n",
    "    ],\n",
    ")\n",
    "\n",
    "pprint(chat_result.choices[0].message.content)"
   ]
  },
  {
   "cell_type": "markdown",
   "metadata": {},
   "source": [
    "<font color='orange'>[Comment of Sung Kim]</font>\n",
    "\n",
    "- 왜 `openai`일까요? OpenAI가 제일 먼저 시작했기 떄문 ㅇㅇ convention\n",
    "- `base_url` : OpenAI가 만든거 말고 다른거 쓴다는 뜻\n",
    "- `role`에도 3개가 있음. `system`, `assistant`, `user`."
   ]
  },
  {
   "cell_type": "code",
   "execution_count": 5,
   "metadata": {},
   "outputs": [
    {
     "name": "stdout",
     "output_type": "stream",
     "text": [
      "('Sure, here are some popular places for vision in Seoul:\\n'\n",
      " '\\n'\n",
      " '1. Namsan Tower: Offers a panoramic view of the city, particularly at night '\n",
      " 'when the city lights up.\\n'\n",
      " '2. Seoul Sky: The highest observation deck in Korea, located in the Lotte '\n",
      " 'World Tower.\\n'\n",
      " '3. Bukhansan Mountain: Offers a scenic view of the city from the top of the '\n",
      " 'mountain.\\n'\n",
      " '4. Seoul Forest: A large urban park with a scenic view of the city skyline.\\n'\n",
      " '5. Deoksugung Palace: A historic palace with beautiful gardens and a view of '\n",
      " 'the modern city skyline.\\n'\n",
      " '\\n'\n",
      " 'These are just a few examples, but there are many other places in Seoul that '\n",
      " \"offer a good view. It depends on your personal preference and what you're \"\n",
      " 'looking for.')\n"
     ]
    }
   ],
   "source": [
    "chat_result = client.chat.completions.create(\n",
    "    model=\"solar-1-mini-chat\",\n",
    "    messages=[\n",
    "        {\"role\": \"system\", \"content\": \"Can you tell me good place to vision in Seoul?\"},\n",
    "    ],\n",
    ")\n",
    "\n",
    "pprint(chat_result.choices[0].message.content)"
   ]
  },
  {
   "cell_type": "markdown",
   "metadata": {},
   "source": [
    "<font color='orange'>[Comment of Sung Kim]</font>\n",
    "\n",
    "- 하지만 코드를 보세요. 좀 길고 불편하죠? 이걸 간단하게 바꾼 게 langchain임. 이제 langchain을 쓸 것입니다.\n",
    "\n",
    "- langchain의 경쟁자도 있음. llama index. 한 80:20의 비율 정도로 사용된달까"
   ]
  },
  {
   "cell_type": "markdown",
   "metadata": {},
   "source": [
    "![Langchain](figures/langchain.jpg)\n",
    "\n",
    "https://python.langchain.com/v0.1/docs/integrations/providers/upstage/"
   ]
  },
  {
   "cell_type": "code",
   "execution_count": 6,
   "metadata": {},
   "outputs": [
    {
     "data": {
      "text/plain": [
       "AIMessage(content=\"The best season to visit Korea depends on your preferences and what you want to do during your trip.\\n\\nIf you're interested in seeing the beautiful cherry blossoms, spring (March to May) is the best time to visit. The weather is mild, and the country is filled with vibrant colors and blooming flowers.\\n\\nSummer (June to August) is great for beach activities and festivals. However, it can be very hot and humid, with temperatures often exceeding 30°C (86°F).\\n\\nFall (September to November) is another popular time to visit, as the weather is cool and comfortable, and the foliage is stunning. This is also a great time for hiking and exploring the countryside.\\n\\nWinter (December to February) can be very cold, with temperatures often dropping below freezing. However, it's a magical time to visit if you enjoy skiing or snow festivals.\\n\\nKeep in mind that Korea's climate can vary greatly depending on the region, so it's a good idea to check the weather forecast for your specific destination before planning your trip.\", response_metadata={'token_usage': {'completion_tokens': 245, 'prompt_tokens': 22, 'total_tokens': 267}, 'model_name': 'solar-1-mini-chat-240612', 'system_fingerprint': None, 'finish_reason': 'eos', 'logprobs': None}, id='run-ae269346-b95d-4d44-aff3-b1e8e13cc18c-0', usage_metadata={'input_tokens': 22, 'output_tokens': 245, 'total_tokens': 267})"
      ]
     },
     "execution_count": 6,
     "metadata": {},
     "output_type": "execute_result"
    }
   ],
   "source": [
    "# Quick hello world\n",
    "from langchain_upstage import ChatUpstage\n",
    "\n",
    "llm = ChatUpstage()\n",
    "llm.invoke(\"What's the best season to get to Korea?\")"
   ]
  },
  {
   "cell_type": "code",
   "execution_count": 7,
   "metadata": {},
   "outputs": [
    {
     "data": {
      "text/plain": [
       "AIMessage(content='こんにちは！ 今日はどのようなご用件でしょうか？', response_metadata={'token_usage': {'completion_tokens': 11, 'prompt_tokens': 17, 'total_tokens': 28}, 'model_name': 'solar-1-mini-chat-ja-240612', 'system_fingerprint': None, 'finish_reason': 'stop', 'logprobs': None}, id='run-51ce487a-6819-4267-93a8-7e959954ad65-0', usage_metadata={'input_tokens': 17, 'output_tokens': 11, 'total_tokens': 28})"
      ]
     },
     "execution_count": 7,
     "metadata": {},
     "output_type": "execute_result"
    }
   ],
   "source": [
    "# Quick hello world\n",
    "from langchain_upstage import ChatUpstage\n",
    "\n",
    "llm = ChatUpstage(model=\"solar-1-mini-chat-ja\")\n",
    "llm.invoke(\"ソーラーLLM、こんにちは。\")"
   ]
  },
  {
   "cell_type": "markdown",
   "metadata": {},
   "source": [
    "<font color='orange'>[Comment of Sung Kim]</font>\n",
    "\n",
    "- 일본어 버전도 있지롱"
   ]
  },
  {
   "cell_type": "markdown",
   "metadata": {},
   "source": [
    "<font color='orange'>[Comment of me]</font>\n",
    "- Q. 솔라 LLM 안녕하세요.\n",
    "- A. 안녕하세요! 오늘은 무슨 일로 오셨습니까?"
   ]
  },
  {
   "cell_type": "code",
   "execution_count": 8,
   "metadata": {},
   "outputs": [
    {
     "data": {
      "text/plain": [
       "(1, 4096)"
      ]
     },
     "execution_count": 8,
     "metadata": {},
     "output_type": "execute_result"
    }
   ],
   "source": [
    "from langchain_upstage import UpstageEmbeddings\n",
    "\n",
    "embeddings_model = UpstageEmbeddings(model=\"solar-embedding-1-large\")\n",
    "embeddings = embeddings_model.embed_documents(\n",
    "    [\n",
    "        \"What is the best season to visit Korea?\",\n",
    "    ])\n",
    "\n",
    "len(embeddings), len(embeddings[0])"
   ]
  }
 ],
 "metadata": {
  "kernelspec": {
   "display_name": ".venv",
   "language": "python",
   "name": "python3"
  },
  "language_info": {
   "codemirror_mode": {
    "name": "ipython",
    "version": 3
   },
   "file_extension": ".py",
   "mimetype": "text/x-python",
   "name": "python",
   "nbconvert_exporter": "python",
   "pygments_lexer": "ipython3",
   "version": "3.9.19"
  }
 },
 "nbformat": 4,
 "nbformat_minor": 2
}
